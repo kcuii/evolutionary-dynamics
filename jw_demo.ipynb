{
 "cells": [
  {
   "cell_type": "markdown",
   "metadata": {},
   "source": [
    "# This is a demo of how to use python notebook\n",
    "\n",
    "to document your journey of researching \"Evolutionary Dynamics: Exploring the Equations of Life\""
   ]
  },
  {
   "cell_type": "markdown",
   "metadata": {},
   "source": [
    "For reference on LaTeX: https://www.math.ubc.ca/~pwalls/math-python/jupyter/latex/\n",
    "\n",
    "For example, $f'(a) = \\lim_{x \\to \\infty}\\frac{x^2-1}{x-a}$\n",
    "\n",
    "$$f'(a) = \\lim_{x \\to \\infty}\\frac{x^2-1}{x-a}$$\n",
    "\n",
    "$$\\begin{bmatrix} 0 & 1 & -1 \\\\ -1 & 0 & 1 \\\\ 1 & -1 & 0 \\end{bmatrix}$$\n"
   ]
  },
  {
   "cell_type": "markdown",
   "metadata": {},
   "source": [
    "# Chapter 2: What evolution is\n",
    "\n",
    "### 2.2.2 Survival of the First, Survival of All\n",
    "\n",
    "On page 19, 20\n",
    "\n",
    "$\\dot{x} = x(1-x)f(x)$,\n",
    "where\n",
    "$f(x) = ax^{c-1} - b(1-x)^{c-1}$\n",
    "\n",
    "For $c\\ne 1$, there exists exactly one other fixed point between 0 and 1, given by \n",
    "$$x^*=\\frac{1}{1+ (a/b)^{c-1}}$$\n",
    "\n",
    "Show that:\n",
    "\n",
    "If $c<1$, the interior fixed point, $x^*$, is globally stable.\n",
    "\n",
    "If $c>1$, the interior fixed point, $x^*$, is unstable."
   ]
  }
 ],
 "metadata": {
  "kernelspec": {
   "display_name": "Python 3",
   "language": "python",
   "name": "python3"
  },
  "language_info": {
   "codemirror_mode": {
    "name": "ipython",
    "version": 3
   },
   "file_extension": ".py",
   "mimetype": "text/x-python",
   "name": "python",
   "nbconvert_exporter": "python",
   "pygments_lexer": "ipython3",
   "version": "3.6.9"
  }
 },
 "nbformat": 4,
 "nbformat_minor": 2
}
